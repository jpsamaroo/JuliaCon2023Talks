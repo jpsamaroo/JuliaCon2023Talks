{
 "cells": [
  {
   "cell_type": "code",
   "execution_count": 1,
   "id": "4ab20369",
   "metadata": {},
   "outputs": [
    {
     "name": "stderr",
     "output_type": "stream",
     "text": [
      "\u001b[32m\u001b[1m  Activating\u001b[22m\u001b[39m project at `~/docs/JuliaCon/2023/Data`\n",
      "\u001b[36m\u001b[1m[ \u001b[22m\u001b[39m\u001b[36m\u001b[1mInfo: \u001b[22m\u001b[39mPrecompiling DTables [20c56dc6-594c-4682-91cf-1d46875b1eba]\n"
     ]
    }
   ],
   "source": [
    "include(\"setup.jl\");"
   ]
  },
  {
   "cell_type": "markdown",
   "id": "ad76aab9",
   "metadata": {},
   "source": [
    "![](https://github.com/JuliaParallel/Dagger.jl/raw/master/docs/logo.jpg)\n",
    "\n",
    "## Dagger for Data Processing\n",
    "\n",
    "#### Written by: Julian Samaroo, Research Software Engineer at MIT's JuliaLab, maintainer of Dagger.jl"
   ]
  },
  {
   "cell_type": "code",
   "execution_count": 2,
   "id": "67a6f81f",
   "metadata": {},
   "outputs": [],
   "source": [
    "using Dagger, DTables"
   ]
  },
  {
   "cell_type": "markdown",
   "id": "e8ee656d",
   "metadata": {},
   "source": [
    "### What is Dagger?\n",
    "\n",
    "- A Julia library for parallel computing\n",
    "- Manages data movement and conversions\n",
    "- Supports out-of-core data processing\n",
    "- Has a Tables-compatible implementation: DTables.jl"
   ]
  },
  {
   "cell_type": "markdown",
   "id": "a4bcf8ea",
   "metadata": {},
   "source": [
    "### Why another table library (DTables.jl), and why Dagger?\n",
    "- Dagger has a real model of data location and movement\n",
    "- Distributed and multithreaded parallelism\n",
    "- Wraps other tables to gain their advantages\n",
    "- Out-of-core support for arbitrary file formats (CSV, Arrow, Parquet, etc.)\n",
    "- Automatic swap-to-disk for big data processing\n",
    "- Tables.jl and DataFrames.jl compatible"
   ]
  },
  {
   "cell_type": "markdown",
   "id": "1544bd49",
   "metadata": {},
   "source": [
    "I'm going to show you how to use Dagger and DTables for data processing through a set of examples."
   ]
  },
  {
   "cell_type": "code",
   "execution_count": 2,
   "id": "f778fa09",
   "metadata": {},
   "outputs": [],
   "source": [
    "# Generate a bunch of big Arrow files (much bigger than RAM), about 20GB total\n",
    "path = \"/home/jpsamaroo/docs/JuliaCon/2023/Data/data\"\n",
    "if !isdir(path)\n",
    "    mkdir(path)\n",
    "    i = 120\n",
    "    sz = 0\n",
    "    while true\n",
    "        file = joinpath(path, \"$(lpad(repr(i), 5, '0')).arrow\")\n",
    "        tbl = (;a=rand(1:10, 10_000_000), b=rand('a':'d', 10_000_000))\n",
    "        Arrow.write(file, tbl)\n",
    "        sz += Base.summarysize(tbl)\n",
    "        println(\"At $file ($(Base.format_bytes(sz)))\")\n",
    "        if sz > 20 * (1024^3) # 20GB\n",
    "            break\n",
    "        end\n",
    "        i += 1\n",
    "    end\n",
    "end"
   ]
  },
  {
   "cell_type": "code",
   "execution_count": 4,
   "id": "237356be",
   "metadata": {},
   "outputs": [
    {
     "data": {
      "text/plain": [
       "DTable with 172 partitions\n",
       "Tabletype: DataFrame"
      ]
     },
     "execution_count": 4,
     "metadata": {},
     "output_type": "execute_result"
    }
   ],
   "source": [
    "# ... and let's load them \"into memory\"\n",
    "bigtbl = DTable([Dagger.File(joinpath(path, f);\n",
    "                          serialize=Arrow.write,\n",
    "                          deserialize=Arrow.Table,\n",
    "                          use_io=true) for f in readdir(path)];\n",
    "             tabletype=DataFrame)"
   ]
  },
  {
   "cell_type": "markdown",
   "id": "726e2b47",
   "metadata": {},
   "source": [
    "Notice:\n",
    "- No problem loading everything into one table (just like JuliaDB)\n",
    "- Loading is fast (really, it's lazy!)\n",
    "- Data is partitioned by file (but this is flexible)"
   ]
  },
  {
   "cell_type": "markdown",
   "id": "95c31d03",
   "metadata": {},
   "source": [
    "How it works:\n",
    "- `Dagger.File` specifies files by path and how to read/write it (here, Arrow)\n",
    "- `DTable` consumes these files lazily\n",
    "- We'll see effect of `tabletype=DataFrame` soon!"
   ]
  },
  {
   "cell_type": "markdown",
   "id": "8d1ab14f",
   "metadata": {},
   "source": [
    "We can do regular operations:"
   ]
  },
  {
   "cell_type": "code",
   "execution_count": 5,
   "id": "d663be1d",
   "metadata": {},
   "outputs": [
    {
     "data": {
      "text/plain": [
       "(a = 9460058042,)"
      ]
     },
     "execution_count": 5,
     "metadata": {},
     "output_type": "execute_result"
    }
   ],
   "source": [
    "reduce(+, bigtbl; cols=[:a]) |> fetch # fetch because `reduce` returns a lazy result"
   ]
  },
  {
   "cell_type": "markdown",
   "id": "1b189a09",
   "metadata": {},
   "source": [
    "What's inside?\n",
    "- A bunch of \"partitions\" or \"chunks\"\n",
    "- Each chunk can be any table type\n",
    "\n",
    "Let's see what's under the hood:"
   ]
  },
  {
   "cell_type": "code",
   "execution_count": 6,
   "id": "49b2e6f1",
   "metadata": {},
   "outputs": [
    {
     "data": {
      "text/plain": [
       "Arrow.Table with 10000000 rows, 2 columns, and schema:\n",
       " :a  Int64\n",
       " :b  Char"
      ]
     },
     "execution_count": 6,
     "metadata": {},
     "output_type": "execute_result"
    }
   ],
   "source": [
    "fetch(bigtbl.chunks[1]) # Let's get the first partition"
   ]
  },
  {
   "cell_type": "code",
   "execution_count": 7,
   "id": "c393e3c7",
   "metadata": {},
   "outputs": [
    {
     "data": {
      "text/plain": [
       "1-element Vector{DataType}:\n",
       " Arrow.Table"
      ]
     },
     "execution_count": 7,
     "metadata": {},
     "output_type": "execute_result"
    }
   ],
   "source": [
    "@assert all(Tables.istable(fetch(c)) for c in bigtbl.chunks)\n",
    "unique(map(c->typeof(fetch(c)), bigtbl.chunks))"
   ]
  },
  {
   "cell_type": "markdown",
   "id": "7b84a647",
   "metadata": {},
   "source": [
    "Notice I don't ever call `DTable |> DataFrame`: that would attempt to fully materialize the table in memory, but this data is too big to fit!"
   ]
  },
  {
   "cell_type": "markdown",
   "id": "7f41663d",
   "metadata": {},
   "source": [
    "N.B.:\n",
    "- Out-of-core is still WIP\n",
    "- Often exceeds memory limit; `--heap-size-hint` helps a bit\n",
    "- Arrow is way better than CSV for out-of-core\n",
    "\n",
    "To avoid some known issues, we'll use a smaller table for the rest of this talk:"
   ]
  },
  {
   "cell_type": "code",
   "execution_count": 3,
   "id": "82717bf2",
   "metadata": {},
   "outputs": [
    {
     "data": {
      "text/plain": [
       "DTable with 2 partitions\n",
       "Tabletype: DataFrame"
      ]
     },
     "execution_count": 3,
     "metadata": {},
     "output_type": "execute_result"
    }
   ],
   "source": [
    "tbl = DTable([Dagger.File(joinpath(path, f);\n",
    "                          serialize=Arrow.write,\n",
    "                          deserialize=Arrow.Table,\n",
    "                          use_io=true) for f in readdir(path)[1:2]]; # Just load 2 files (~200MB)\n",
    "             tabletype=DataFrame)"
   ]
  },
  {
   "cell_type": "markdown",
   "id": "289333fe",
   "metadata": {},
   "source": [
    "`DTable`s are easy to transform:"
   ]
  },
  {
   "cell_type": "code",
   "execution_count": 4,
   "id": "24a5c0b4",
   "metadata": {},
   "outputs": [
    {
     "data": {
      "text/plain": [
       "DTable with 2 partitions\n",
       "Tabletype: DataFrame"
      ]
     },
     "execution_count": 4,
     "metadata": {},
     "output_type": "execute_result"
    }
   ],
   "source": [
    "tbl2 = map(row->(;a=row.a * 2), tbl)"
   ]
  },
  {
   "cell_type": "markdown",
   "id": "7ad433a2",
   "metadata": {},
   "source": [
    "The `tabletype` chosen above specifies the output table type for new `DTable`s:"
   ]
  },
  {
   "cell_type": "code",
   "execution_count": 5,
   "id": "6a338cc8",
   "metadata": {},
   "outputs": [
    {
     "data": {
      "text/plain": [
       "1-element Vector{DataType}:\n",
       " NamedTuple{(:a,), Tuple{Vector{Int64}}}"
      ]
     },
     "execution_count": 5,
     "metadata": {},
     "output_type": "execute_result"
    }
   ],
   "source": [
    "unique(map(c->typeof(fetch(c)), tbl2.chunks))"
   ]
  },
  {
   "cell_type": "markdown",
   "id": "445a5de3",
   "metadata": {},
   "source": [
    "If the `DTable` is small enough, we can convert it to another table type:"
   ]
  },
  {
   "cell_type": "code",
   "execution_count": 7,
   "id": "09ad18f9",
   "metadata": {},
   "outputs": [
    {
     "data": {
      "text/html": [
       "<div><div style = \"float: left;\"><span>20000000×1 DataFrame</span></div><div style = \"float: right;\"><span style = \"font-style: italic;\">19999975 rows omitted</span></div><div style = \"clear: both;\"></div></div><div class = \"data-frame\" style = \"overflow-x: scroll;\"><table class = \"data-frame\" style = \"margin-bottom: 6px;\"><thead><tr class = \"header\"><th class = \"rowNumber\" style = \"font-weight: bold; text-align: right;\">Row</th><th style = \"text-align: left;\">a</th></tr><tr class = \"subheader headerLastRow\"><th class = \"rowNumber\" style = \"font-weight: bold; text-align: right;\"></th><th title = \"Int64\" style = \"text-align: left;\">Int64</th></tr></thead><tbody><tr><td class = \"rowNumber\" style = \"font-weight: bold; text-align: right;\">1</td><td style = \"text-align: right;\">16</td></tr><tr><td class = \"rowNumber\" style = \"font-weight: bold; text-align: right;\">2</td><td style = \"text-align: right;\">20</td></tr><tr><td class = \"rowNumber\" style = \"font-weight: bold; text-align: right;\">3</td><td style = \"text-align: right;\">16</td></tr><tr><td class = \"rowNumber\" style = \"font-weight: bold; text-align: right;\">4</td><td style = \"text-align: right;\">2</td></tr><tr><td class = \"rowNumber\" style = \"font-weight: bold; text-align: right;\">5</td><td style = \"text-align: right;\">12</td></tr><tr><td class = \"rowNumber\" style = \"font-weight: bold; text-align: right;\">6</td><td style = \"text-align: right;\">12</td></tr><tr><td class = \"rowNumber\" style = \"font-weight: bold; text-align: right;\">7</td><td style = \"text-align: right;\">2</td></tr><tr><td class = \"rowNumber\" style = \"font-weight: bold; text-align: right;\">8</td><td style = \"text-align: right;\">8</td></tr><tr><td class = \"rowNumber\" style = \"font-weight: bold; text-align: right;\">9</td><td style = \"text-align: right;\">16</td></tr><tr><td class = \"rowNumber\" style = \"font-weight: bold; text-align: right;\">10</td><td style = \"text-align: right;\">4</td></tr><tr><td class = \"rowNumber\" style = \"font-weight: bold; text-align: right;\">11</td><td style = \"text-align: right;\">10</td></tr><tr><td class = \"rowNumber\" style = \"font-weight: bold; text-align: right;\">12</td><td style = \"text-align: right;\">12</td></tr><tr><td class = \"rowNumber\" style = \"font-weight: bold; text-align: right;\">13</td><td style = \"text-align: right;\">2</td></tr><tr><td style = \"text-align: right;\">&vellip;</td><td style = \"text-align: right;\">&vellip;</td></tr><tr><td class = \"rowNumber\" style = \"font-weight: bold; text-align: right;\">19999989</td><td style = \"text-align: right;\">4</td></tr><tr><td class = \"rowNumber\" style = \"font-weight: bold; text-align: right;\">19999990</td><td style = \"text-align: right;\">18</td></tr><tr><td class = \"rowNumber\" style = \"font-weight: bold; text-align: right;\">19999991</td><td style = \"text-align: right;\">14</td></tr><tr><td class = \"rowNumber\" style = \"font-weight: bold; text-align: right;\">19999992</td><td style = \"text-align: right;\">18</td></tr><tr><td class = \"rowNumber\" style = \"font-weight: bold; text-align: right;\">19999993</td><td style = \"text-align: right;\">10</td></tr><tr><td class = \"rowNumber\" style = \"font-weight: bold; text-align: right;\">19999994</td><td style = \"text-align: right;\">10</td></tr><tr><td class = \"rowNumber\" style = \"font-weight: bold; text-align: right;\">19999995</td><td style = \"text-align: right;\">12</td></tr><tr><td class = \"rowNumber\" style = \"font-weight: bold; text-align: right;\">19999996</td><td style = \"text-align: right;\">18</td></tr><tr><td class = \"rowNumber\" style = \"font-weight: bold; text-align: right;\">19999997</td><td style = \"text-align: right;\">16</td></tr><tr><td class = \"rowNumber\" style = \"font-weight: bold; text-align: right;\">19999998</td><td style = \"text-align: right;\">10</td></tr><tr><td class = \"rowNumber\" style = \"font-weight: bold; text-align: right;\">19999999</td><td style = \"text-align: right;\">4</td></tr><tr><td class = \"rowNumber\" style = \"font-weight: bold; text-align: right;\">20000000</td><td style = \"text-align: right;\">8</td></tr></tbody></table></div>"
      ],
      "text/latex": [
       "\\begin{tabular}{r|c}\n",
       "\t& a\\\\\n",
       "\t\\hline\n",
       "\t& Int64\\\\\n",
       "\t\\hline\n",
       "\t1 & 16 \\\\\n",
       "\t2 & 20 \\\\\n",
       "\t3 & 16 \\\\\n",
       "\t4 & 2 \\\\\n",
       "\t5 & 12 \\\\\n",
       "\t6 & 12 \\\\\n",
       "\t7 & 2 \\\\\n",
       "\t8 & 8 \\\\\n",
       "\t9 & 16 \\\\\n",
       "\t10 & 4 \\\\\n",
       "\t11 & 10 \\\\\n",
       "\t12 & 12 \\\\\n",
       "\t13 & 2 \\\\\n",
       "\t14 & 10 \\\\\n",
       "\t15 & 2 \\\\\n",
       "\t16 & 4 \\\\\n",
       "\t17 & 2 \\\\\n",
       "\t18 & 10 \\\\\n",
       "\t19 & 6 \\\\\n",
       "\t20 & 8 \\\\\n",
       "\t21 & 4 \\\\\n",
       "\t22 & 6 \\\\\n",
       "\t23 & 6 \\\\\n",
       "\t24 & 2 \\\\\n",
       "\t25 & 2 \\\\\n",
       "\t26 & 18 \\\\\n",
       "\t27 & 4 \\\\\n",
       "\t28 & 12 \\\\\n",
       "\t29 & 12 \\\\\n",
       "\t30 & 18 \\\\\n",
       "\t$\\dots$ & $\\dots$ \\\\\n",
       "\\end{tabular}\n"
      ],
      "text/plain": [
       "\u001b[1m20000000×1 DataFrame\u001b[0m\n",
       "\u001b[1m      Row \u001b[0m│\u001b[1m a     \u001b[0m\n",
       "          │\u001b[90m Int64 \u001b[0m\n",
       "──────────┼───────\n",
       "        1 │    16\n",
       "        2 │    20\n",
       "        3 │    16\n",
       "        4 │     2\n",
       "        5 │    12\n",
       "        6 │    12\n",
       "        7 │     2\n",
       "        8 │     8\n",
       "        9 │    16\n",
       "       10 │     4\n",
       "       11 │    10\n",
       "    ⋮     │   ⋮\n",
       " 19999991 │    14\n",
       " 19999992 │    18\n",
       " 19999993 │    10\n",
       " 19999994 │    10\n",
       " 19999995 │    12\n",
       " 19999996 │    18\n",
       " 19999997 │    16\n",
       " 19999998 │    10\n",
       " 19999999 │     4\n",
       " 20000000 │     8\n",
       "\u001b[36m19999979 rows omitted\u001b[0m"
      ]
     },
     "execution_count": 7,
     "metadata": {},
     "output_type": "execute_result"
    }
   ],
   "source": [
    "tbl2 |> DataFrame"
   ]
  },
  {
   "cell_type": "markdown",
   "id": "46d5acca",
   "metadata": {},
   "source": [
    "Joins work too:"
   ]
  },
  {
   "cell_type": "code",
   "execution_count": 8,
   "id": "a16e0211",
   "metadata": {},
   "outputs": [
    {
     "data": {
      "text/html": [
       "<div><div style = \"float: left;\"><span>10×2 DataFrame</span></div><div style = \"clear: both;\"></div></div><div class = \"data-frame\" style = \"overflow-x: scroll;\"><table class = \"data-frame\" style = \"margin-bottom: 6px;\"><thead><tr class = \"header\"><th class = \"rowNumber\" style = \"font-weight: bold; text-align: right;\">Row</th><th style = \"text-align: left;\">a</th><th style = \"text-align: left;\">c</th></tr><tr class = \"subheader headerLastRow\"><th class = \"rowNumber\" style = \"font-weight: bold; text-align: right;\"></th><th title = \"Int64\" style = \"text-align: left;\">Int64</th><th title = \"Char\" style = \"text-align: left;\">Char</th></tr></thead><tbody><tr><td class = \"rowNumber\" style = \"font-weight: bold; text-align: right;\">1</td><td style = \"text-align: right;\">2</td><td style = \"text-align: left;\">b</td></tr><tr><td class = \"rowNumber\" style = \"font-weight: bold; text-align: right;\">2</td><td style = \"text-align: right;\">2</td><td style = \"text-align: left;\">b</td></tr><tr><td class = \"rowNumber\" style = \"font-weight: bold; text-align: right;\">3</td><td style = \"text-align: right;\">8</td><td style = \"text-align: left;\">h</td></tr><tr><td class = \"rowNumber\" style = \"font-weight: bold; text-align: right;\">4</td><td style = \"text-align: right;\">4</td><td style = \"text-align: left;\">d</td></tr><tr><td class = \"rowNumber\" style = \"font-weight: bold; text-align: right;\">5</td><td style = \"text-align: right;\">10</td><td style = \"text-align: left;\">j</td></tr><tr><td class = \"rowNumber\" style = \"font-weight: bold; text-align: right;\">6</td><td style = \"text-align: right;\">2</td><td style = \"text-align: left;\">b</td></tr><tr><td class = \"rowNumber\" style = \"font-weight: bold; text-align: right;\">7</td><td style = \"text-align: right;\">10</td><td style = \"text-align: left;\">j</td></tr><tr><td class = \"rowNumber\" style = \"font-weight: bold; text-align: right;\">8</td><td style = \"text-align: right;\">2</td><td style = \"text-align: left;\">b</td></tr><tr><td class = \"rowNumber\" style = \"font-weight: bold; text-align: right;\">9</td><td style = \"text-align: right;\">4</td><td style = \"text-align: left;\">d</td></tr><tr><td class = \"rowNumber\" style = \"font-weight: bold; text-align: right;\">10</td><td style = \"text-align: right;\">2</td><td style = \"text-align: left;\">b</td></tr></tbody></table></div>"
      ],
      "text/latex": [
       "\\begin{tabular}{r|cc}\n",
       "\t& a & c\\\\\n",
       "\t\\hline\n",
       "\t& Int64 & Char\\\\\n",
       "\t\\hline\n",
       "\t1 & 2 & b \\\\\n",
       "\t2 & 2 & b \\\\\n",
       "\t3 & 8 & h \\\\\n",
       "\t4 & 4 & d \\\\\n",
       "\t5 & 10 & j \\\\\n",
       "\t6 & 2 & b \\\\\n",
       "\t7 & 10 & j \\\\\n",
       "\t8 & 2 & b \\\\\n",
       "\t9 & 4 & d \\\\\n",
       "\t10 & 2 & b \\\\\n",
       "\\end{tabular}\n"
      ],
      "text/plain": [
       "\u001b[1m10×2 DataFrame\u001b[0m\n",
       "\u001b[1m Row \u001b[0m│\u001b[1m a     \u001b[0m\u001b[1m c    \u001b[0m\n",
       "     │\u001b[90m Int64 \u001b[0m\u001b[90m Char \u001b[0m\n",
       "─────┼─────────────\n",
       "   1 │     2  b\n",
       "   2 │     2  b\n",
       "   3 │     8  h\n",
       "   4 │     4  d\n",
       "   5 │    10  j\n",
       "   6 │     2  b\n",
       "   7 │    10  j\n",
       "   8 │     2  b\n",
       "   9 │     4  d\n",
       "  10 │     2  b"
      ]
     },
     "execution_count": 8,
     "metadata": {},
     "output_type": "execute_result"
    }
   ],
   "source": [
    "df = DataFrame(a=collect(1:10), c=collect('a':'j'))\n",
    "fetch(innerjoin(tbl2, df, on=:a))[1:10,:]"
   ]
  },
  {
   "cell_type": "code",
   "execution_count": 9,
   "id": "934317c3",
   "metadata": {},
   "outputs": [
    {
     "data": {
      "text/html": [
       "<div><div style = \"float: left;\"><span>10×2 DataFrame</span></div><div style = \"clear: both;\"></div></div><div class = \"data-frame\" style = \"overflow-x: scroll;\"><table class = \"data-frame\" style = \"margin-bottom: 6px;\"><thead><tr class = \"header\"><th class = \"rowNumber\" style = \"font-weight: bold; text-align: right;\">Row</th><th style = \"text-align: left;\">a</th><th style = \"text-align: left;\">c</th></tr><tr class = \"subheader headerLastRow\"><th class = \"rowNumber\" style = \"font-weight: bold; text-align: right;\"></th><th title = \"Int64\" style = \"text-align: left;\">Int64</th><th title = \"Union{Missing, Char}\" style = \"text-align: left;\">Char?</th></tr></thead><tbody><tr><td class = \"rowNumber\" style = \"font-weight: bold; text-align: right;\">1</td><td style = \"text-align: right;\">2</td><td style = \"text-align: left;\">b</td></tr><tr><td class = \"rowNumber\" style = \"font-weight: bold; text-align: right;\">2</td><td style = \"text-align: right;\">2</td><td style = \"text-align: left;\">b</td></tr><tr><td class = \"rowNumber\" style = \"font-weight: bold; text-align: right;\">3</td><td style = \"text-align: right;\">8</td><td style = \"text-align: left;\">h</td></tr><tr><td class = \"rowNumber\" style = \"font-weight: bold; text-align: right;\">4</td><td style = \"text-align: right;\">4</td><td style = \"text-align: left;\">d</td></tr><tr><td class = \"rowNumber\" style = \"font-weight: bold; text-align: right;\">5</td><td style = \"text-align: right;\">10</td><td style = \"text-align: left;\">j</td></tr><tr><td class = \"rowNumber\" style = \"font-weight: bold; text-align: right;\">6</td><td style = \"text-align: right;\">2</td><td style = \"text-align: left;\">b</td></tr><tr><td class = \"rowNumber\" style = \"font-weight: bold; text-align: right;\">7</td><td style = \"text-align: right;\">10</td><td style = \"text-align: left;\">j</td></tr><tr><td class = \"rowNumber\" style = \"font-weight: bold; text-align: right;\">8</td><td style = \"text-align: right;\">2</td><td style = \"text-align: left;\">b</td></tr><tr><td class = \"rowNumber\" style = \"font-weight: bold; text-align: right;\">9</td><td style = \"text-align: right;\">4</td><td style = \"text-align: left;\">d</td></tr><tr><td class = \"rowNumber\" style = \"font-weight: bold; text-align: right;\">10</td><td style = \"text-align: right;\">2</td><td style = \"text-align: left;\">b</td></tr></tbody></table></div>"
      ],
      "text/latex": [
       "\\begin{tabular}{r|cc}\n",
       "\t& a & c\\\\\n",
       "\t\\hline\n",
       "\t& Int64 & Char?\\\\\n",
       "\t\\hline\n",
       "\t1 & 2 & b \\\\\n",
       "\t2 & 2 & b \\\\\n",
       "\t3 & 8 & h \\\\\n",
       "\t4 & 4 & d \\\\\n",
       "\t5 & 10 & j \\\\\n",
       "\t6 & 2 & b \\\\\n",
       "\t7 & 10 & j \\\\\n",
       "\t8 & 2 & b \\\\\n",
       "\t9 & 4 & d \\\\\n",
       "\t10 & 2 & b \\\\\n",
       "\\end{tabular}\n"
      ],
      "text/plain": [
       "\u001b[1m10×2 DataFrame\u001b[0m\n",
       "\u001b[1m Row \u001b[0m│\u001b[1m a     \u001b[0m\u001b[1m c     \u001b[0m\n",
       "     │\u001b[90m Int64 \u001b[0m\u001b[90m Char? \u001b[0m\n",
       "─────┼──────────────\n",
       "   1 │     2  b\n",
       "   2 │     2  b\n",
       "   3 │     8  h\n",
       "   4 │     4  d\n",
       "   5 │    10  j\n",
       "   6 │     2  b\n",
       "   7 │    10  j\n",
       "   8 │     2  b\n",
       "   9 │     4  d\n",
       "  10 │     2  b"
      ]
     },
     "execution_count": 9,
     "metadata": {},
     "output_type": "execute_result"
    }
   ],
   "source": [
    "df2 = DataFrame(a=collect(1:10), c=collect('a':'j'))\n",
    "fetch(leftjoin(tbl2, df, on=:a))[1:10,:]"
   ]
  },
  {
   "cell_type": "code",
   "execution_count": null,
   "id": "c1e588d5",
   "metadata": {},
   "outputs": [],
   "source": [
    "fetch(innerjoin(tbl, tbl2, on=:a))[1:10,:]"
   ]
  },
  {
   "cell_type": "markdown",
   "id": "709d3941",
   "metadata": {},
   "source": [
    "### Heterogeneous tables\n",
    "\n",
    "Let's see how the DTable fares with more kinds of tables:\n",
    "- Arrow\n",
    "- CSV\n",
    "- Parquet\n",
    "- SQLite\n",
    "- Julia Serialization (NamedTuple of Vectors)"
   ]
  },
  {
   "cell_type": "code",
   "execution_count": 10,
   "id": "429e2e87",
   "metadata": {},
   "outputs": [],
   "source": [
    "# Let's generate some files...\n",
    "tbl3 = DataFrame(tbl2)[1:10000,:]\n",
    "tbl3 |> Arrow.write(\"tbl3.arrow\")\n",
    "tbl3 |> CSV.write(\"tbl3.csv\")\n",
    "Parquet2.writefile(\"tbl3.parquet\", tbl3)\n",
    "db = SQLite.DB(\"tbl3.sqlite\"); tbl3 |> SQLite.load!(db, \"tbl3\")\n",
    "serialize(\"tbl3.jls\", tbl3 |> Tables.columntable)"
   ]
  },
  {
   "cell_type": "code",
   "execution_count": 11,
   "id": "6827ae25",
   "metadata": {},
   "outputs": [
    {
     "name": "stdout",
     "output_type": "stream",
     "text": [
      "Reading tbl3.arrow\n",
      "\u001b[1m10×1 DataFrame\u001b[0m\n",
      "\u001b[1m Row \u001b[0m│\u001b[1m a     \u001b[0m\n",
      "     │\u001b[90m Int64 \u001b[0m\n",
      "─────┼───────\n",
      "   1 │    16\n",
      "   2 │    20\n",
      "   3 │    16\n",
      "   4 │     2\n",
      "   5 │    12\n",
      "   6 │    12\n",
      "   7 │     2\n",
      "   8 │     8\n",
      "   9 │    16\n",
      "  10 │     4\n",
      "Reading tbl3.csv\n",
      "\u001b[1m10×1 DataFrame\u001b[0m\n",
      "\u001b[1m Row \u001b[0m│\u001b[1m a     \u001b[0m\n",
      "     │\u001b[90m Int64 \u001b[0m\n",
      "─────┼───────\n",
      "   1 │    16\n",
      "   2 │    20\n",
      "   3 │    16\n",
      "   4 │     2\n",
      "   5 │    12\n",
      "   6 │    12\n",
      "   7 │     2\n",
      "   8 │     8\n",
      "   9 │    16\n",
      "  10 │     4\n",
      "Reading tbl3.parquet\n",
      "\u001b[1m10×1 DataFrame\u001b[0m\n",
      "\u001b[1m Row \u001b[0m│\u001b[1m a     \u001b[0m\n",
      "     │\u001b[90m Int64 \u001b[0m\n",
      "─────┼───────\n",
      "   1 │    16\n",
      "   2 │    20\n",
      "   3 │    16\n",
      "   4 │     2\n",
      "   5 │    12\n",
      "   6 │    12\n",
      "   7 │     2\n",
      "   8 │     8\n",
      "   9 │    16\n",
      "  10 │     4\n",
      "Reading tbl3.sqlite\n",
      "\u001b[1m10×1 DataFrame\u001b[0m\n",
      "\u001b[1m Row \u001b[0m│\u001b[1m a     \u001b[0m\n",
      "     │\u001b[90m Int64 \u001b[0m\n",
      "─────┼───────\n",
      "   1 │    16\n",
      "   2 │    20\n",
      "   3 │    16\n",
      "   4 │     2\n",
      "   5 │    12\n",
      "   6 │    12\n",
      "   7 │     2\n",
      "   8 │     8\n",
      "   9 │    16\n",
      "  10 │     4\n",
      "Reading tbl3.jls\n",
      "\u001b[1m10×1 DataFrame\u001b[0m\n",
      "\u001b[1m Row \u001b[0m│\u001b[1m a     \u001b[0m\n",
      "     │\u001b[90m Int64 \u001b[0m\n",
      "─────┼───────\n",
      "   1 │    16\n",
      "   2 │    20\n",
      "   3 │    16\n",
      "   4 │     2\n",
      "   5 │    12\n",
      "   6 │    12\n",
      "   7 │     2\n",
      "   8 │     8\n",
      "   9 │    16\n",
      "  10 │     4\n"
     ]
    }
   ],
   "source": [
    "# ...and read them back in!\n",
    "sqlite_serialize(path::String, x) = SQLite.load!(SQLite.DB(path), x)\n",
    "sqlite_deserialize(path::String) = DBInterface.execute(SQLite.DB(path), \"SELECT * FROM tbl3\") |> DataFrame\n",
    "for (file, ser, des) in [\n",
    "        (\"tbl3.arrow\", Arrow.write, Arrow.Table),\n",
    "        (\"tbl3.csv\", CSV.write, CSV.File),\n",
    "        (\"tbl3.parquet\", Parquet2.writefile, Parquet2.Dataset),\n",
    "        (\"tbl3.sqlite\", sqlite_serialize, sqlite_deserialize),\n",
    "        (\"tbl3.jls\", serialize, deserialize)\n",
    "    ]\n",
    "    println(\"Reading $file\")\n",
    "    tbl3_read = DTable([Dagger.File(file;\n",
    "                                    serialize=ser,\n",
    "                                    deserialize=des,\n",
    "                                    use_io=false)])\n",
    "    df = DataFrame(tbl3_read)\n",
    "    println(df[1:10,:])\n",
    "    @assert all(tbl3_read.a .== tbl3.a)\n",
    "end"
   ]
  },
  {
   "cell_type": "markdown",
   "id": "8e50a10c",
   "metadata": {},
   "source": [
    "### What kinds of data can Dagger manage?\n",
    "\n",
    "- Partitioned tables (`DTables.DTable`)\n",
    "- Partitioned arrays (`Dagger.DArray`)\n",
    "- Arbitrary in-memory data (`Dagger.Chunk`/`Dagger.Shard`)\n",
    "- Arbitrary file data (`Dagger.File`)"
   ]
  },
  {
   "cell_type": "markdown",
   "id": "69439530",
   "metadata": {},
   "source": [
    "### How does Dagger manage data on disk?\n",
    "\n",
    "Everything goes through `Dagger.Chunk`! Let's look at how Dagger stores some in-memory data:"
   ]
  },
  {
   "cell_type": "code",
   "execution_count": 9,
   "id": "13d2287e",
   "metadata": {},
   "outputs": [
    {
     "data": {
      "text/plain": [
       "Dagger.Chunk{Int64, MemPool.DRef, OSProc, ProcessScope}(Int64, UnitDomain(), MemPool.DRef(1, 9, 0x0000000000000008), OSProc(1), ProcessScope: worker == 1, false)"
      ]
     },
     "execution_count": 9,
     "metadata": {},
     "output_type": "execute_result"
    }
   ],
   "source": [
    "x = Dagger.@mutable 42 # Create a piece of data to inspect, get back a Chunk"
   ]
  },
  {
   "cell_type": "code",
   "execution_count": 10,
   "id": "6e6ea8a1",
   "metadata": {},
   "outputs": [
    {
     "data": {
      "text/plain": [
       "OSProc(1)"
      ]
     },
     "execution_count": 10,
     "metadata": {},
     "output_type": "execute_result"
    }
   ],
   "source": [
    "x.processor # Where the data lives (worker 1)"
   ]
  },
  {
   "cell_type": "code",
   "execution_count": 11,
   "id": "8abdbe02",
   "metadata": {},
   "outputs": [
    {
     "name": "stdout",
     "output_type": "stream",
     "text": [
      "MemPool.DRef\n",
      "  owner: Int64 1\n",
      "  id: Int64 9\n",
      "  size: UInt64 0x0000000000000008\n"
     ]
    }
   ],
   "source": [
    "dump(x.handle) # The low-level remote handle to the data"
   ]
  },
  {
   "cell_type": "code",
   "execution_count": 12,
   "id": "f015e6fa",
   "metadata": {},
   "outputs": [
    {
     "data": {
      "text/plain": [
       "42"
      ]
     },
     "execution_count": 12,
     "metadata": {},
     "output_type": "execute_result"
    }
   ],
   "source": [
    "MemPool.poolget(x.handle) # How to ask MemPool for the data"
   ]
  },
  {
   "cell_type": "markdown",
   "id": "d842348d",
   "metadata": {},
   "source": [
    "### Powerful and Extensible\n",
    "\n",
    "- Single implementation, but many abstractions\n",
    "- Support for arbitrary file and data formats\n",
    "- Distributed awareness\n",
    "- Lazy loading and data movement\n",
    "- Customizable data movement and conversion\n",
    "- Customizable 9"
   ]
  },
  {
   "cell_type": "markdown",
   "id": "b7b0e39c",
   "metadata": {},
   "source": [
    "### What comes next?\n",
    "- In-place table operations\n",
    "- Streaming data support\n",
    "- GPU processing"
   ]
  }
 ],
 "metadata": {
  "kernelspec": {
   "display_name": "Julia 1.9",
   "language": "julia",
   "name": "julia-1.9"
  },
  "language_info": {
   "file_extension": ".jl",
   "mimetype": "application/julia",
   "name": "julia",
   "version": "1.9.1"
  }
 },
 "nbformat": 4,
 "nbformat_minor": 5
}
